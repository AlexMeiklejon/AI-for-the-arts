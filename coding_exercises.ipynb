{
 "cells": [
  {
   "cell_type": "code",
   "execution_count": null,
   "id": "463250c6",
   "metadata": {
    "vscode": {
     "languageId": "plaintext"
    }
   },
   "outputs": [],
   "source": [
    "print(\"Hello, World!\")"
   ]
  },
  {
   "cell_type": "markdown",
   "id": "958da861",
   "metadata": {},
   "source": [
    "Hello, World!\n",
    "\n",
    "The following code was created as my first attempt at \n",
    "programming in this course. It is meant to help me understand how to write and \n",
    "run code in GitHub Codespaces."
   ]
  },
  {
   "cell_type": "markdown",
   "id": "48a3e8dd",
   "metadata": {},
   "source": [
    "learning basic programming concepts\n",
    "- specific tasks you always \n",
    "wanted to do with programming\n",
    "- coding"
   ]
  }
 ],
 "metadata": {
  "language_info": {
   "name": "python"
  }
 },
 "nbformat": 4,
 "nbformat_minor": 5
}
